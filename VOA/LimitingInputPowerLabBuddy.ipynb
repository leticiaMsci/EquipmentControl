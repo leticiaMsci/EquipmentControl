{
 "cells": [
  {
   "cell_type": "code",
   "execution_count": 1,
   "metadata": {},
   "outputs": [],
   "source": [
    "import nidaqmx\n",
    "import numpy as np\n",
    "import matplotlib.pyplot as plt\n",
    "import VOA_lib\n",
    "import sys\n",
    "\n",
    "_dev_read = \"Dev1/ai1\" # DAQ input channel\n",
    "_dev_write = \"Dev1/ao1\" # DAQ output channel\n",
    "class DAQ:\n",
    "    def read(self, dev_id = _dev_read):\n",
    "        with nidaqmx.Task() as task:\n",
    "            task.ai_channels.add_ai_voltage_chan(dev_id)\n",
    "            return np.mean(task.read(number_of_samples_per_channel=3))\n",
    "        \n",
    "    def write(self, voltage, dev_id = _dev_write):\n",
    "        with nidaqmx.Task() as analog_output:\n",
    "            analog_output.ao_channels.add_ao_voltage_chan(dev_id)\n",
    "            analog_output.write(voltage)\n",
    "            \n"
   ]
  },
  {
   "cell_type": "code",
   "execution_count": 2,
   "metadata": {},
   "outputs": [
    {
     "data": {
      "text/plain": [
       "-0.0021393755388838067"
      ]
     },
     "execution_count": 2,
     "metadata": {},
     "output_type": "execute_result"
    }
   ],
   "source": [
    "daq = DAQ()\n",
    "daq.read()"
   ]
  },
  {
   "cell_type": "code",
   "execution_count": 3,
   "metadata": {},
   "outputs": [
    {
     "name": "stdout",
     "output_type": "stream",
     "text": [
      "Calibration file read successfully (./calib_U00312.json)\n"
     ]
    }
   ],
   "source": [
    "att = VOA_lib.VOA(\"Dev1/ao1\", \"./calib_U00312.json\")\n",
    "att.set_att(2)"
   ]
  },
  {
   "cell_type": "code",
   "execution_count": 4,
   "metadata": {},
   "outputs": [
    {
     "data": {
      "text/plain": [
       "[<matplotlib.lines.Line2D at 0x139d0a2b188>]"
      ]
     },
     "execution_count": 4,
     "metadata": {},
     "output_type": "execute_result"
    },
    {
     "data": {
      "image/png": "[encoded data removed]",
      "text/plain": [
       "<Figure size 432x288 with 1 Axes>"
      ]
     },
     "metadata": {
      "needs_background": "light"
     },
     "output_type": "display_data"
    }
   ],
   "source": [
    "read_lst = []\n",
    "for att_val in range(3, 15):\n",
    "    att.set_att(att_val)\n",
    "    read_lst.append(daq.read())\n",
    "    \n",
    "plt.plot(read_lst, '.')"
   ]
  },
  {
   "cell_type": "code",
   "execution_count": null,
   "metadata": {},
   "outputs": [
    {
     "name": "stdout",
     "output_type": "stream",
     "text": [
      " att: 0.450, historical max: 0.128,      measured: -0.002 V"
     ]
    }
   ],
   "source": [
    "buddy_max = 0.3\n",
    "buddy_min = 0.009\n",
    "step_down = 3\n",
    "step_up = 0.05\n",
    "att_min = 0.5\n",
    "\n",
    "att_val = 5\n",
    "att.set_att(att_val)\n",
    "\n",
    "#read_lst = []\n",
    "#att_lst = []\n",
    "\n",
    "buddy_memory = 0\n",
    "\n",
    "while True:\n",
    "    buddy_read = daq.read()\n",
    "    buddy_memory = max(buddy_memory, buddy_read)\n",
    "\n",
    "    \n",
    "    if buddy_read > buddy_max:\n",
    "        sys.stdout.write('\\r'+\"down, att: {:5.3f}, historical max: {:5.3f}, measured: {:6.3f} V\".format(att_val, buddy_memory, buddy_read))\n",
    "        \n",
    "        att_val=att_val+step_down\n",
    "        att.set_att(att_val)     \n",
    "    \n",
    "    elif buddy_read < buddy_min and att_val>att_min:\n",
    "        sys.stdout.write('\\r'+\" up, att: {:5.3f} , historical max: {:5.3f}, measured: {:6.3f} V\".format(att_val, buddy_memory, buddy_read))\n",
    "        \n",
    "        att_val = att_val-step_up\n",
    "        att.set_att(att_val)\n",
    "        \n",
    "    else:\n",
    "        sys.stdout.write('\\r'+\" att: {:5.3f}, historical max: {:5.3f},      measured: {:6.3f} V\".format(att_val, buddy_memory, buddy_read))\n",
    "        \n",
    "#plt.plot(read_lst, '.')"
   ]
  },
  {
   "cell_type": "code",
   "execution_count": 5,
   "metadata": {},
   "outputs": [],
   "source": [
    "att.set_att(23)"
   ]
  },
  {
   "cell_type": "code",
   "execution_count": null,
   "metadata": {},
   "outputs": [],
   "source": []
  }
 ],
 "metadata": {
  "kernelspec": {
   "display_name": "Python 3",
   "language": "python",
   "name": "python3"
  },
  "language_info": {
   "codemirror_mode": {
    "name": "ipython",
    "version": 3
   },
   "file_extension": ".py",
   "mimetype": "text/x-python",
   "name": "python",
   "nbconvert_exporter": "python",
   "pygments_lexer": "ipython3",
   "version": "3.7.4"
  }
 },
 "nbformat": 4,
 "nbformat_minor": 2
}
